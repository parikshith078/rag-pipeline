{
 "cells": [
  {
   "cell_type": "code",
   "execution_count": 1,
   "metadata": {},
   "outputs": [
    {
     "name": "stderr",
     "output_type": "stream",
     "text": [
      "/Users/parikshith/projects/rag_pipeline/venv/lib/python3.9/site-packages/urllib3/__init__.py:35: NotOpenSSLWarning: urllib3 v2 only supports OpenSSL 1.1.1+, currently the 'ssl' module is compiled with 'LibreSSL 2.8.3'. See: https://github.com/urllib3/urllib3/issues/3020\n",
      "  warnings.warn(\n"
     ]
    }
   ],
   "source": [
    "import subprocess\n",
    "from mlx_lm import load, generate"
   ]
  },
  {
   "cell_type": "code",
   "execution_count": 3,
   "metadata": {},
   "outputs": [],
   "source": [
    "# prompt format\n",
    "intstructions_string = f\"\"\"ShawGPT, functioning as a virtual data science \\\n",
    "consultant on YouTube, communicates in clear, accessible language, escalating \\\n",
    "to technical depth upon request. \\\n",
    "It reacts to feedback aptly and ends responses with its signature '–ShawGPT'. \\\n",
    "ShawGPT will tailor the length of its responses to match the viewer's comment, \\\n",
    "providing concise acknowledgments to brief expressions of gratitude or \\\n",
    "feedback, thus keeping the interaction natural and engaging.\n",
    "\n",
    "Please respond to the following comment.\n",
    "\"\"\"\n",
    "\n",
    "# define lambda function\n",
    "prompt_builder = lambda comment: f'''<s>[INST] {intstructions_string} \\n{comment} \\n[/INST]\\n'''"
   ]
  },
  {
   "cell_type": "code",
   "execution_count": 50,
   "metadata": {},
   "outputs": [],
   "source": [
    "import os \n",
    "from dotenv import load_dotenv\n",
    "\n",
    "# Load variables from the .env file\n",
    "load_dotenv()\n",
    "\n",
    "# Access them\n",
    "PINECONE_API_KEY = os.getenv(\"PINECONE_API_KEY\")\n"
   ]
  },
  {
   "cell_type": "code",
   "execution_count": 51,
   "metadata": {},
   "outputs": [
    {
     "name": "stdout",
     "output_type": "stream",
     "text": [
      "Using existing index\n"
     ]
    }
   ],
   "source": [
    "from pinecone import Pinecone, ServerlessSpec\n",
    "\n",
    "pc = Pinecone(api_key=PINECONE_API_KEY)\n",
    "index_name = \"rag-pipeline-sources\"\n",
    "\n",
    "if index_name in pc.list_indexes().names():\n",
    "    print(\"Using existing index\")\n",
    "else:\n",
    "    print(\"Creating new index\")\n",
    "    pc.create_index(\n",
    "        name=index_name,\n",
    "        dimension=768,\n",
    "        metric=\"cosine\",\n",
    "        spec=ServerlessSpec(\n",
    "            cloud=\"aws\",\n",
    "            region=\"us-east-1\"\n",
    "        )\n",
    "    )\n",
    "index = pc.Index(index_name)"
   ]
  },
  {
   "cell_type": "code",
   "execution_count": 14,
   "metadata": {},
   "outputs": [
    {
     "name": "stderr",
     "output_type": "stream",
     "text": [
      "huggingface/tokenizers: The current process just got forked, after parallelism has already been used. Disabling parallelism to avoid deadlocks...\n",
      "To disable this warning, you can either:\n",
      "\t- Avoid using `tokenizers` before the fork if possible\n",
      "\t- Explicitly set the environment variable TOKENIZERS_PARALLELISM=(true | false)\n",
      "WARNING:sentence_transformers.SentenceTransformer:No sentence-transformers model found with name sentence-transformers/all-mpnet-base-v2. Creating a new one with mean pooling.\n"
     ]
    },
    {
     "data": {
      "application/vnd.jupyter.widget-view+json": {
       "model_id": "637542dde25e438eacf050acbf12cc89",
       "version_major": 2,
       "version_minor": 0
      },
      "text/plain": [
       "config.json:   0%|          | 0.00/571 [00:00<?, ?B/s]"
      ]
     },
     "metadata": {},
     "output_type": "display_data"
    },
    {
     "data": {
      "application/vnd.jupyter.widget-view+json": {
       "model_id": "0f24c8ec7e344c8d8f1786ed7cb7da6f",
       "version_major": 2,
       "version_minor": 0
      },
      "text/plain": [
       "model.safetensors:   0%|          | 0.00/438M [00:00<?, ?B/s]"
      ]
     },
     "metadata": {},
     "output_type": "display_data"
    },
    {
     "data": {
      "application/vnd.jupyter.widget-view+json": {
       "model_id": "32e5f97c407e4c17b29b2985065df2e6",
       "version_major": 2,
       "version_minor": 0
      },
      "text/plain": [
       "tokenizer_config.json:   0%|          | 0.00/363 [00:00<?, ?B/s]"
      ]
     },
     "metadata": {},
     "output_type": "display_data"
    },
    {
     "data": {
      "application/vnd.jupyter.widget-view+json": {
       "model_id": "313bb026ef144fc99c346ab5b08f3edb",
       "version_major": 2,
       "version_minor": 0
      },
      "text/plain": [
       "vocab.txt:   0%|          | 0.00/232k [00:00<?, ?B/s]"
      ]
     },
     "metadata": {},
     "output_type": "display_data"
    },
    {
     "data": {
      "application/vnd.jupyter.widget-view+json": {
       "model_id": "12c8d8f2f28a4b3d8fa3a0727d43c52a",
       "version_major": 2,
       "version_minor": 0
      },
      "text/plain": [
       "tokenizer.json:   0%|          | 0.00/466k [00:00<?, ?B/s]"
      ]
     },
     "metadata": {},
     "output_type": "display_data"
    },
    {
     "data": {
      "application/vnd.jupyter.widget-view+json": {
       "model_id": "fc96bdb1455a4df9956a46c11bc236cd",
       "version_major": 2,
       "version_minor": 0
      },
      "text/plain": [
       "special_tokens_map.json:   0%|          | 0.00/239 [00:00<?, ?B/s]"
      ]
     },
     "metadata": {},
     "output_type": "display_data"
    }
   ],
   "source": [
    "import torch\n",
    "from sentence_transformers import SentenceTransformer\n",
    "\n",
    "device = \"cuda\" if torch.cuda.is_available() else \"cpu\"\n",
    "\n",
    "embedding_model = SentenceTransformer(model_name_or_path=\"all-mpnet-base-v2\",\n",
    "                                      device=device)\n",
    "def generate_embeddings(text_list):\n",
    "  embeddings = embedding_model.encode(text_list, convert_to_tensor=True)\n",
    "  return embeddings"
   ]
  },
  {
   "cell_type": "code",
   "execution_count": 15,
   "metadata": {},
   "outputs": [],
   "source": [
    "def query_pinecone_db(query_text, k=5):\n",
    "  query_embedding = generate_embeddings([query_text])[0].tolist()\n",
    "  res = index.query(vector=query_embedding,top_k=k,include_values=True)\n",
    "  res\n",
    "  indices = [int(item[\"id\"]) for item in res[\"matches\"]]\n",
    "  scores = [float(item[\"score\"]) for item in res[\"matches\"]]\n",
    "  return indices,scores"
   ]
  },
  {
   "cell_type": "code",
   "execution_count": null,
   "metadata": {},
   "outputs": [],
   "source": [
    "import json\n",
    "\n",
    "def load_from_json(file_path: str) -> list[dict]:\n",
    "    try:\n",
    "        with open(file_path, 'r') as json_file:\n",
    "            data = json.load(json_file)\n",
    "        print(f\"Data successfully loaded from {file_path}\")\n",
    "        return data\n",
    "    except Exception as e:\n",
    "        print(f\"An error occurred while loading data: {e}\")\n",
    "        return []"
   ]
  },
  {
   "cell_type": "code",
   "execution_count": 23,
   "metadata": {},
   "outputs": [
    {
     "name": "stdout",
     "output_type": "stream",
     "text": [
      "Data successfully loaded from sources_and_chunks.json\n"
     ]
    }
   ],
   "source": [
    "source_file_path = \"sources_and_chunks.json\"\n",
    "sources_and_chunks = load_from_json(source_file_path)\n",
    "text_chunks = [item[\"sentence_chunk\"] for item in sources_and_chunks]"
   ]
  },
  {
   "cell_type": "code",
   "execution_count": 24,
   "metadata": {},
   "outputs": [
    {
     "name": "stdout",
     "output_type": "stream",
     "text": [
      "idexs: [252, 70, 59, 413, 57]\n",
      "scores: [0.599671, 0.569163203, 0.565872848, 0.561869442, 0.560454249]\n",
      "source:  pdf\n",
      "source_file:  /Users/parikshith/projects/rag_pipeline/rag_docs/pdf_files/Manufacturing Execution Systems Integration and Intelligence.pdf\n",
      "text:  The next chapter presents just that. In helping with the exchange of information between the plant software systems, one standard that is being adapted by MES is open connectivity or OPC. OPC is a series of standards specifications. The first standard (originally called the OPC Specification and now called the Data Access Specification) resulted from the collaboration of a number of leading worldwide automation suppliers working in cooperation with Microsoft. Originally based on Microsoft's OLE COM (component object model) and DCOM (distributed component object model) technologies, the specification defined a standard set of objects, interfaces and methods for use in process control and manufacturing automation applications to facilitate interoperability. The COM/DCOM technologies\n",
      "source:  pdf\n",
      "source_file:  /Users/parikshith/projects/rag_pipeline/rag_docs/pdf_files/Werum MES Optimization Pharma .pdf\n",
      "text:  Optimizing the pharmaceutical supply chain by means of MES page 27 of 28 7.2.4 Suitable to Meet Future Requirements Werum's PAS-X BIOTECH has made it possible for Boehringer Ingelheim to establish a central electronic production management system. This system can be interfaced to all relevant processes even outside the very area of production, such as laboratory information systems (LIMS). The MES serves as a data \"turntable\" and ensures consistent data flow between SAP and DCS environment.8 Outlook The cost-benefit ratio obtained by the implementation and operational use of an MES system always depends on the capabilities provided by the basic technologies. Today's new technologies show a trend towards open structures. In the field of basic software technologies J2EE is such an open standard. There is no longer the need to stick to one particular supplier. Further examples are XML and OPC interfaces, which facilitate a standardized data exchange. Currently, new technologies are launched at rapid pace enabling many other optimizations at low costs. Among these new trends are:  • Web-based functions: use of intranet/internet functions • Mobile computing: use of mobile computers/handhelds • PAT: analysis and intervention in realtime to avoid errors instead of analyzing them afterwards • Modularization: use of J2EE, CORBA software architectures enabling an open system environment (best of breed) with standardized interfaces.\n"
     ]
    }
   ],
   "source": [
    "query_text = \"What are production activity management\"\n",
    "ids, scores = query_pinecone_db(query_text)\n",
    "print(f\"idexs: {ids}\")\n",
    "print(f\"scores: {scores}\")\n",
    "for id in ids[:2]: # Printing top 2\n",
    "  print(\"source: \", sources_and_chunks[id][\"source\"])\n",
    "  print(\"source_file: \", sources_and_chunks[id][\"source_file\"])\n",
    "  print(\"text: \", text_chunks[id])\n",
    "  "
   ]
  },
  {
   "cell_type": "code",
   "execution_count": 25,
   "metadata": {},
   "outputs": [],
   "source": [
    "def get_context_items(query_text):\n",
    "    ids, scores = query_pinecone_db(query_text)\n",
    "    contexts = [text_chunks[id] for id in ids]\n",
    "    return contexts"
   ]
  },
  {
   "cell_type": "code",
   "execution_count": 36,
   "metadata": {},
   "outputs": [],
   "source": [
    "def generate_prompt(query: str) -> str:\n",
    "    # Retrieve context items\n",
    "    context_items = get_context_items(query_text=query)\n",
    "\n",
    "    # Join context items into one dotted paragraph\n",
    "    context = \"- \" + \"\\n- \".join(context_items)\n",
    "\n",
    "    # Base prompt template\n",
    "    base_prompt = f\"\"\"Based on the following context items, please answer the query.\n",
    "Give yourself room to think by extracting relevant passages from the context before answering the query.\n",
    "Don't return the thinking, only return the answer.\n",
    "Make sure your answers are as explanatory as possible.\n",
    "Use the following examples as reference for the ideal answer style.\n",
    "\\nExample 1:\n",
    "Query: What are the fat-soluble vitamins?\n",
    "Answer: The fat-soluble vitamins include Vitamin A, Vitamin D, Vitamin E, and Vitamin K. These vitamins are absorbed along with fats in the diet and can be stored in the body's fatty tissue and liver for later use. Vitamin A is important for vision, immune function, and skin health. Vitamin D plays a critical role in calcium absorption and bone health. Vitamin E acts as an antioxidant, protecting cells from damage. Vitamin K is essential for blood clotting and bone metabolism.\n",
    "\\nExample 2:\n",
    "Query: What are the causes of type 2 diabetes?\n",
    "Answer: Type 2 diabetes is often associated with overnutrition, particularly the overconsumption of calories leading to obesity. Factors include a diet high in refined sugars and saturated fats, which can lead to insulin resistance, a condition where the body's cells do not respond effectively to insulin. Over time, the pancreas cannot produce enough insulin to manage blood sugar levels, resulting in type 2 diabetes. Additionally, excessive caloric intake without sufficient physical activity exacerbates the risk by promoting weight gain and fat accumulation, particularly around the abdomen, further contributing to insulin resistance.\n",
    "\\nExample 3:\n",
    "Query: What is the importance of hydration for physical performance?\n",
    "Answer: Hydration is crucial for physical performance because water plays key roles in maintaining blood volume, regulating body temperature, and ensuring the transport of nutrients and oxygen to cells. Adequate hydration is essential for optimal muscle function, endurance, and recovery. Dehydration can lead to decreased performance, fatigue, and increased risk of heat-related illnesses, such as heat stroke. Drinking sufficient water before, during, and after exercise helps ensure peak physical performance and recovery.\n",
    "\\nNow use the following context items to answer the user query:\n",
    "{context}\n",
    "\\nRelevant passages: <extract relevant passages from the context here>\n",
    "User query: {query}\n",
    "Answer:\"\"\"\n",
    "    \n",
    "    return base_prompt"
   ]
  },
  {
   "cell_type": "code",
   "execution_count": 37,
   "metadata": {},
   "outputs": [
    {
     "name": "stdout",
     "output_type": "stream",
     "text": [
      "Based on the following context items, please answer the query.\n",
      "Give yourself room to think by extracting relevant passages from the context before answering the query.\n",
      "Don't return the thinking, only return the answer.\n",
      "Make sure your answers are as explanatory as possible.\n",
      "Use the following examples as reference for the ideal answer style.\n",
      "\n",
      "Example 1:\n",
      "Query: What are the fat-soluble vitamins?\n",
      "Answer: The fat-soluble vitamins include Vitamin A, Vitamin D, Vitamin E, and Vitamin K. These vitamins are absorbed along with fats in the diet and can be stored in the body's fatty tissue and liver for later use. Vitamin A is important for vision, immune function, and skin health. Vitamin D plays a critical role in calcium absorption and bone health. Vitamin E acts as an antioxidant, protecting cells from damage. Vitamin K is essential for blood clotting and bone metabolism.\n",
      "\n",
      "Example 2:\n",
      "Query: What are the causes of type 2 diabetes?\n",
      "Answer: Type 2 diabetes is often associated with overnutrition, particularly the overconsumption of calories leading to obesity. Factors include a diet high in refined sugars and saturated fats, which can lead to insulin resistance, a condition where the body's cells do not respond effectively to insulin. Over time, the pancreas cannot produce enough insulin to manage blood sugar levels, resulting in type 2 diabetes. Additionally, excessive caloric intake without sufficient physical activity exacerbates the risk by promoting weight gain and fat accumulation, particularly around the abdomen, further contributing to insulin resistance.\n",
      "\n",
      "Example 3:\n",
      "Query: What is the importance of hydration for physical performance?\n",
      "Answer: Hydration is crucial for physical performance because water plays key roles in maintaining blood volume, regulating body temperature, and ensuring the transport of nutrients and oxygen to cells. Adequate hydration is essential for optimal muscle function, endurance, and recovery. Dehydration can lead to decreased performance, fatigue, and increased risk of heat-related illnesses, such as heat stroke. Drinking sufficient water before, during, and after exercise helps ensure peak physical performance and recovery.\n",
      "\n",
      "Now use the following context items to answer the user query:\n",
      "- The next chapter presents just that. In helping with the exchange of information between the plant software systems, one standard that is being adapted by MES is open connectivity or OPC. OPC is a series of standards specifications. The first standard (originally called the OPC Specification and now called the Data Access Specification) resulted from the collaboration of a number of leading worldwide automation suppliers working in cooperation with Microsoft. Originally based on Microsoft's OLE COM (component object model) and DCOM (distributed component object model) technologies, the specification defined a standard set of objects, interfaces and methods for use in process control and manufacturing automation applications to facilitate interoperability. The COM/DCOM technologies\n",
      "- Optimizing the pharmaceutical supply chain by means of MES page 27 of 28 7.2.4 Suitable to Meet Future Requirements Werum's PAS-X BIOTECH has made it possible for Boehringer Ingelheim to establish a central electronic production management system. This system can be interfaced to all relevant processes even outside the very area of production, such as laboratory information systems (LIMS). The MES serves as a data \"turntable\" and ensures consistent data flow between SAP and DCS environment.8 Outlook The cost-benefit ratio obtained by the implementation and operational use of an MES system always depends on the capabilities provided by the basic technologies. Today's new technologies show a trend towards open structures. In the field of basic software technologies J2EE is such an open standard. There is no longer the need to stick to one particular supplier. Further examples are XML and OPC interfaces, which facilitate a standardized data exchange. Currently, new technologies are launched at rapid pace enabling many other optimizations at low costs. Among these new trends are:  • Web-based functions: use of intranet/internet functions • Mobile computing: use of mobile computers/handhelds • PAT: analysis and intervention in realtime to avoid errors instead of analyzing them afterwards • Modularization: use of J2EE, CORBA software architectures enabling an open system environment (best of breed) with standardized interfaces.\n",
      "- An overall picture of the customer’s standard system will finally turn out by including further requirements made by other plants. Such additional functions can be integrated in a roll-out version of the software product. During the roll-out phase a proven, familiar system is available to the customer, which can also be transferred to other sites with only little effort (saving up to 50 %).• Integration of all key users The best system will not be accepted if the users do not get the opportunity to get familiar with the system before it is actually implemented. Unless key users get the necessary experience in handling the new system and an understanding of the objectives to be achieved by installing this system, the management will run the risk of loosing the users’ support. The implementation would inevitably be doomed to failure. For this reason, the key users should be integrated at a very early stage, for instance when defining the system requirements or when analyzing the functionalities. As soon as the pilot system is available, training courses should be held. In this phase, key users are just the right persons to make crucial contributions to improving the system or supported workflows. It is important to win the key users and make them advocates of \"their\" system.\n",
      "- 99 decision is made by management. The MES must consider where in the schedule the new heat order can fit to maintain a continuous caster while using available resources, and minimizing the cost of transition steel. The shortest makespan should also be considered in this optimization problem, since adding a new heat to the schedule means adding more time to process for the day schedule. It is also recommended that quality disturbance handling be incorporated into the A433 Manage Heat Process module and A434 Manage Heat Quality. The A433 module provides the status at failure using the A6 module’s Decode Decision Parameters Algorithm; however the A434 module needs an algorithm for QA Process Adjustments. Quality disturbances occur when chemical problems arise mainly from not meeting the correct specification. This could be anything from too much carbon in the steel to the presence of an impurity such as copper. This information is provided when the lab QA system has tested the steel, usually some time before entering the casting stage.“Therefore, the immediate response is to keep running but adjust the operating parameters. There are a number of well defined and documented actions that can be taken.\n",
      "- Optimizing the pharmaceutical supply chain by means of MES page 21 of 28 5 Regulatory Requirements Depending on the country the products are delivered to, an MES system for the pharmaceutical industry must functionally comply with the requirements of regulatory authorities in Europe and/or in the United States: • GMP requirements of FDA (21 CFR Part 210/211) [8]  • FDA requirements (21 CFR Part 11) for electronic records, electronic signatures [9] These regulations for instance define the procedure for identifying a container (21 CFR Part 211.80 and 105) or the requirements electronic signatures have to meet (21 CFR Part 11.100- 300). Beyond this, there are a number of requirements and guidelines by regulatory authorities stating the QA procedures relating to the Software Development Life Cycle in order to guarantee software products of high quality. Examples are: • GMP guidelines of EU [10] [11] • GAMP 4 guidelines [12] European and US laws may vary in details; what they have in common is the requirement for the validation of computerized systems. The fundamental prerequisite that qualifies any system for validation is that clearly defined QA policies have been observed throughout all project phases. In this context, the GAMP V-model has become generally accepted in the pharmaceutical industry. The V-model divides the production and maintenance of software systems into the phases Design Qualification, Development Implementation, Factory and Site Acceptance Test, Installation Qualification (IQ), Operational Qualification (OQ), Performance Qualification (PQ), and Ongoing Qualification. All these phases have to be concluded with a verification to prove that all the requirements for the respective phase have been fulfilled. All the verifications have to be performed in a formal and systematic way. Change management procedures have to be established to ensure an overall consistency of the entire documentation across all phases. The computer system must be developed and tested in accordance with a quality management system.\n",
      "\n",
      "Relevant passages: <extract relevant passages from the context here>\n",
      "User query: What are production activity management\n",
      "Answer:\n"
     ]
    }
   ],
   "source": [
    "query_text = \"What are production activity management\"\n",
    "final_prompt = generate_prompt(query=query_text)\n",
    "print(final_prompt)\n"
   ]
  },
  {
   "cell_type": "code",
   "execution_count": null,
   "metadata": {},
   "outputs": [
    {
     "data": {
      "application/vnd.jupyter.widget-view+json": {
       "model_id": "76c5286c9d8e4de4a78a136aa4012689",
       "version_major": 2,
       "version_minor": 0
      },
      "text/plain": [
       "Fetching 6 files:   0%|          | 0/6 [00:00<?, ?it/s]"
      ]
     },
     "metadata": {},
     "output_type": "display_data"
    }
   ],
   "source": [
    "model_path = \"mlx-community/Llama-3.2-3B-Instruct-4bit\"\n",
    "prompt = prompt_builder(\"Great content, thank you!\")\n",
    "max_tokens = 140\n",
    "\n",
    "# load model\n",
    "model, tokenizer = load(model_path)"
   ]
  },
  {
   "cell_type": "code",
   "execution_count": 42,
   "metadata": {},
   "outputs": [],
   "source": [
    "# generate response\n",
    "def ask_rag_pipeline(user_query):\n",
    "    final_prompt = generate_prompt(query=user_query) \n",
    "    response = generate(model, tokenizer, prompt=final_prompt, \n",
    "                                      max_tokens = max_tokens, \n",
    "                                      verbose=False)\n",
    "    if isinstance(response, dict) and \"response\" in response:\n",
    "        final_response = response[\"response\"]\n",
    "    else:\n",
    "        # If `generate` returns raw text, ensure only the relevant part is extracted\n",
    "        final_response = response.split(\"Answer:\")[-1].strip()\n",
    "\n",
    "# Return or use the final response\n",
    "    return final_response"
   ]
  },
  {
   "cell_type": "code",
   "execution_count": 52,
   "metadata": {},
   "outputs": [
    {
     "data": {
      "text/plain": [
       "'Supply chain refers to the network of organizations, people, and activities involved in the production and delivery of a product or service. It encompasses the flow of goods, services, and information from raw materials to end customers. In the context of Manufacturing Execution Systems (MES), supply chain management involves the planning, coordination, and execution of activities related to the production and delivery of products, including inventory management, logistics, and transportation. MES solutions support supply chain management by providing real-time visibility into production processes, enabling data-driven decision-making, and automating tasks such as order management, inventory tracking, and material management. By optimizing supply chain operations, MES solutions can help manufacturers improve efficiency, reduce costs, and enhance'"
      ]
     },
     "execution_count": 52,
     "metadata": {},
     "output_type": "execute_result"
    }
   ],
   "source": [
    "user_query = \"What is supply chain?\"\n",
    "ask_rag_pipeline(user_query)"
   ]
  }
 ],
 "metadata": {
  "kernelspec": {
   "display_name": "venv",
   "language": "python",
   "name": "python3"
  },
  "language_info": {
   "codemirror_mode": {
    "name": "ipython",
    "version": 3
   },
   "file_extension": ".py",
   "mimetype": "text/x-python",
   "name": "python",
   "nbconvert_exporter": "python",
   "pygments_lexer": "ipython3",
   "version": "3.9.6"
  }
 },
 "nbformat": 4,
 "nbformat_minor": 2
}
